{
 "cells": [
  {
   "cell_type": "markdown",
   "metadata": {},
   "source": [
    "# RPA e Python - Automatize qualquer Processo ou Sistema com Python\n",
    "\n",
    "### pyautogui\n",
    "\n",
    "- Biblioteca para controlar Mouse, Teclado e Tela do Computador com o Python<br>\n",
    "(Link: https://pyautogui.readthedocs.io/en/latest/quickstart.html)\n",
    "\n",
    "\n",
    "- Vamos fazer um exemplo simples aqui, mas repare que isso serve para:\n",
    "    - Qualquer site\n",
    "    - Qualquer programa ou pasta do seu computador\n",
    "    - Qualquer Sistema que você tenha que acessar e automatizar\n",
    "    \n",
    "### Desafio:\n",
    "\n",
    "- Queremos automatizar o backup de arquivos no sistema\n",
    "    - No nosso exemplo, vamos ter que criar um processo que faça o upload de 1 arquivo no Google Drive de forma automática e rápida"
   ]
  },
  {
   "cell_type": "markdown",
   "metadata": {},
   "source": [
    "# Coletando passos necessários para realizar os procedimentos"
   ]
  },
  {
   "cell_type": "code",
   "execution_count": 395,
   "metadata": {},
   "outputs": [],
   "source": [
    "# Abrir o Google Drive no meu computador\n",
    "# Entrar na minha área de trabalho\n",
    "# Cliquei no arquivo que eu quero fazer o backup e arrastei ele\n",
    "# Enquanto estou arrastando, vou mudar para o Google Drive\n",
    "# Larguei o arquivo no Google Drive\n",
    "# Esperar 5 segundos"
   ]
  },
  {
   "cell_type": "markdown",
   "metadata": {},
   "source": [
    "# Codificando para realizar backup de um arquivo da área de trabalho para o Google Drive"
   ]
  },
  {
   "cell_type": "code",
   "execution_count": 396,
   "metadata": {},
   "outputs": [],
   "source": [
    "# Importando as Bibliotecas\n",
    "import pyautogui\n",
    "import time"
   ]
  },
  {
   "cell_type": "markdown",
   "metadata": {},
   "source": [
    "## Abrir o Google Drive no meu Computador"
   ]
  },
  {
   "cell_type": "code",
   "execution_count": 397,
   "metadata": {},
   "outputs": [
    {
     "data": {
      "text/plain": [
       "'OK'"
      ]
     },
     "execution_count": 397,
     "metadata": {},
     "output_type": "execute_result"
    }
   ],
   "source": [
    "# Inserindo mensagem inicial de alerta ao usuário para evitar que o mesmo não saiba o que está acontecendo\n",
    "pyautogui.alert(\"O código vai começar. Não use nada no seu computador enquanto o código estiver rodando!!!\")"
   ]
  },
  {
   "cell_type": "code",
   "execution_count": 398,
   "metadata": {},
   "outputs": [],
   "source": [
    "# Inserindo tempo de espera na execução de cada comando, evitando atropelamento de código\n",
    "pyautogui.PAUSE = 1.5\n",
    "# Abrindo a tecla do Windows para pesquisar o que dejesa pesquisar\n",
    "pyautogui.press('winleft')\n",
    "# Digitar a informação que deseja pesquisar\n",
    "pyautogui.write('chrome')\n",
    "# Adicionando tempo após o código anterior\n",
    "time.sleep(1)\n",
    "# Pressionando a tecla enter para confirmar a pesquisa\n",
    "pyautogui.press('enter')\n",
    "# Adicionando tempo após o código anterior\n",
    "time.sleep(1)\n",
    "# Digitando o caminho do Google Drive, onde desejo importar a informação\n",
    "pyautogui.write(\"https://drive.google.com/drive/u/0/my-drive\")\n",
    "# Adicionando tempo após o código anterior\n",
    "time.sleep(5)\n",
    "# Pressionando a tecla enter para confirmar a pesquisa\n",
    "pyautogui.press('enter')\n",
    "# Utilizando a combinação de teclas de atalho para entrar na minha Área de Trabalho\n",
    "pyautogui.hotkey('winleft', 'd')"
   ]
  },
  {
   "cell_type": "markdown",
   "metadata": {},
   "source": [
    "## Clicar no arquivo a ser arrastado e mover para o local de upload"
   ]
  },
  {
   "cell_type": "code",
   "execution_count": 399,
   "metadata": {},
   "outputs": [],
   "source": [
    "# Movendo o mouse até o local onde o arquivo a ser movido se encontra\n",
    "pyautogui.moveTo(1306, 31)\n",
    "# Pressionando o botão esquerdo do mouse em cima do arquivo\n",
    "pyautogui.mouseDown()\n",
    "# Movendo o arquivo para a posição onde podemos soltar o arquivo e o mesmo ser importando dentro do Google Drive\n",
    "pyautogui.moveTo(683, 622)\n",
    "# Agora precisamos mudar de tela, indo para o Google Drive\n",
    "pyautogui.hotkey('alt', 'tab')\n",
    "# Adicionando tempo após o código anterior\n",
    "time.sleep(1)\n",
    "# Soltar o mouse no local desejado\n",
    "pyautogui.mouseUp()"
   ]
  },
  {
   "cell_type": "code",
   "execution_count": 400,
   "metadata": {},
   "outputs": [],
   "source": [
    "# Aguardar 5 segundos\n",
    "time.sleep(5)"
   ]
  },
  {
   "cell_type": "code",
   "execution_count": 401,
   "metadata": {},
   "outputs": [
    {
     "data": {
      "text/plain": [
       "'OK'"
      ]
     },
     "execution_count": 401,
     "metadata": {},
     "output_type": "execute_result"
    }
   ],
   "source": [
    "# Inserindo mensagem final de alerta ao usuário para que o mesmo saiba o que já poder voltar a utilizar o computador\n",
    "pyautogui.alert(\"Código concluído. Pode voltar a utilizar seu computador !!!\")"
   ]
  },
  {
   "cell_type": "code",
   "execution_count": 402,
   "metadata": {},
   "outputs": [],
   "source": [
    "# Identificando a posição do arquivo a ser utilizado com o mouse\n",
    "#pyautogui.position()"
   ]
  },
  {
   "cell_type": "code",
   "execution_count": 403,
   "metadata": {},
   "outputs": [],
   "source": [
    "# Imprimindo as referências do teclado na biblioteca\n",
    "# pyautogui.KEYBOARD_KEYS"
   ]
  }
 ],
 "metadata": {
  "kernelspec": {
   "display_name": "Python 3",
   "language": "python",
   "name": "python3"
  },
  "language_info": {
   "codemirror_mode": {
    "name": "ipython",
    "version": 3
   },
   "file_extension": ".py",
   "mimetype": "text/x-python",
   "name": "python",
   "nbconvert_exporter": "python",
   "pygments_lexer": "ipython3",
   "version": "3.8.8"
  }
 },
 "nbformat": 4,
 "nbformat_minor": 4
}
