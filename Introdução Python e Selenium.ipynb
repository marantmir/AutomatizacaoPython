{
 "cells": [
  {
   "cell_type": "markdown",
   "metadata": {},
   "source": [
    "# Automação Web com Python\n",
    "\n",
    "### Python + Selenium\n",
    "\n",
    "- 2 Requisitos:\n",
    "    - Instalar o Selenium\n",
    "    - Baixar o webdriver (chromedriver ou geckodriver)"
   ]
  },
  {
   "cell_type": "code",
   "execution_count": 1,
   "metadata": {},
   "outputs": [],
   "source": [
    "# Para aprendermos a usar, vamos uar o Python para baixar para a gente o Demonstrativo de Resultados da Magazine Luiza\n",
    "\n",
    "# Passo 1: Entrar em https://ri.magazineluiza.com.br/\n",
    "# Passo 2: Clicar em \"Planilha Dinâmica\"\n",
    "# Passo 3: Clicar em \"Clique aqui para fazer o download\""
   ]
  },
  {
   "cell_type": "code",
   "execution_count": 14,
   "metadata": {},
   "outputs": [],
   "source": [
    "# Importando o pacote webdriver da biblioteca selenium\n",
    "from selenium import webdriver\n",
    "\n",
    "# Abrindo o navegador que utilizaremos\n",
    "navegador = webdriver.Chrome()\n",
    "\n",
    "# Acessando uma página específica\n",
    "navegador.get(\"https://ri.magazineluiza.com.br/\")\n",
    "\n",
    "# Clicando em um local na página, nesse caso em \"Planilha Dinâmica\"\n",
    "navegador.find_element_by_xpath('//*[@id=\"owl-destaques\"]/div[1]/div/div[4]/div/a/img').click()\n",
    "\n",
    "# Clicando em mais um local na página, nesse caso \"Clique aqui para fazer o download\"\n",
    "navegador.find_element_by_xpath('//*[@id=\"qh+HU4D7Db023fFZvApelg==\"]').click()"
   ]
  },
  {
   "cell_type": "code",
   "execution_count": null,
   "metadata": {},
   "outputs": [],
   "source": []
  }
 ],
 "metadata": {
  "kernelspec": {
   "display_name": "Python 3",
   "language": "python",
   "name": "python3"
  },
  "language_info": {
   "codemirror_mode": {
    "name": "ipython",
    "version": 3
   },
   "file_extension": ".py",
   "mimetype": "text/x-python",
   "name": "python",
   "nbconvert_exporter": "python",
   "pygments_lexer": "ipython3",
   "version": "3.8.8"
  }
 },
 "nbformat": 4,
 "nbformat_minor": 4
}
